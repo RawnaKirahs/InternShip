{
 "cells": [
  {
   "cell_type": "code",
   "execution_count": 4,
   "metadata": {},
   "outputs": [],
   "source": [
    "import json\n",
    "data=[{\"Name\":\"Rawna\",\"Age\":\"20\",\"Gender\":\"Male\"},\n",
    "      {\"Name\":\"Suyamblingam\",\"Age\":\"25\",\"Gender\":\"Male\"},\n",
    "      {\"Name\":\"Gauthami\",\"Age\":\"23\",\"Gender\":\"Female\"},\n",
    "      {\"Name\":\"AmalaPaul\",\"Age\":\"18\",\"Gender\":\"Female\"}]\n",
    "with open(\"test.json\",'w')as json_file:\n",
    "    json.dump(data,json_file)"
   ]
  },
  {
   "cell_type": "code",
   "execution_count": 5,
   "metadata": {},
   "outputs": [
    {
     "name": "stdout",
     "output_type": "stream",
     "text": [
      "Requirement already satisfied: pymysql in c:\\users\\rawna\\anaconda3\\lib\\site-packages (0.10.1)\n",
      "Note: you may need to restart the kernel to use updated packages.\n"
     ]
    }
   ],
   "source": [
    "pip install pymysql"
   ]
  },
  {
   "cell_type": "code",
   "execution_count": 6,
   "metadata": {},
   "outputs": [],
   "source": [
    "import pandas as pd\n",
    "from sqlalchemy import create_engine\n",
    "engine=create_engine('mysql+pymysql://root:@localhost/day12task')\n",
    "df=pd.read_json(\"test.json\")\n",
    "df.to_sql(\"day12task\",con=engine,if_exists='replace')"
   ]
  },
  {
   "cell_type": "code",
   "execution_count": null,
   "metadata": {},
   "outputs": [],
   "source": []
  }
 ],
 "metadata": {
  "kernelspec": {
   "display_name": "Python 3",
   "language": "python",
   "name": "python3"
  },
  "language_info": {
   "codemirror_mode": {
    "name": "ipython",
    "version": 3
   },
   "file_extension": ".py",
   "mimetype": "text/x-python",
   "name": "python",
   "nbconvert_exporter": "python",
   "pygments_lexer": "ipython3",
   "version": "3.8.5"
  }
 },
 "nbformat": 4,
 "nbformat_minor": 4
}
